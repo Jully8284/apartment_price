{
 "cells": [
  {
   "cell_type": "markdown",
   "id": "402db92a",
   "metadata": {},
   "source": [
    "PREDICTING APARTMENT PRICE IN LAGOS STATE NIGERIA"
   ]
  },
  {
   "cell_type": "code",
   "execution_count": 1,
   "id": "825fb207",
   "metadata": {},
   "outputs": [],
   "source": [
    "# Importing Libraries\n",
    "import pandas as pd\n",
    "import matplotlib.pyplot as plt\n",
    "import seaborn as sns\n",
    "import numpy as np\n",
    "import plotly.express as px\n",
    "from sklearn.metrics import mean_absolute_error\n",
    "from sklearn.linear_model import LinearRegression\n",
    "from sklearn.pipeline import make_pipeline\n",
    "from sklearn.preprocessing import OneHotEncoder\n",
    "from sklearn.model_selection import train_test_split\n",
    "from ipywidgets import Dropdown, interact"
   ]
  },
  {
   "cell_type": "code",
   "execution_count": 2,
   "id": "d114a039",
   "metadata": {},
   "outputs": [
    {
     "data": {
      "text/html": [
       "<div>\n",
       "<style scoped>\n",
       "    .dataframe tbody tr th:only-of-type {\n",
       "        vertical-align: middle;\n",
       "    }\n",
       "\n",
       "    .dataframe tbody tr th {\n",
       "        vertical-align: top;\n",
       "    }\n",
       "\n",
       "    .dataframe thead th {\n",
       "        text-align: right;\n",
       "    }\n",
       "</style>\n",
       "<table border=\"1\" class=\"dataframe\">\n",
       "  <thead>\n",
       "    <tr style=\"text-align: right;\">\n",
       "      <th></th>\n",
       "      <th>Title</th>\n",
       "      <th>More Info</th>\n",
       "      <th>Price</th>\n",
       "      <th>Serviced</th>\n",
       "      <th>Newly Built</th>\n",
       "      <th>Furnished</th>\n",
       "      <th>Bedrooms</th>\n",
       "      <th>Bathrooms</th>\n",
       "      <th>Toilets</th>\n",
       "      <th>City</th>\n",
       "      <th>Neighborhood</th>\n",
       "    </tr>\n",
       "  </thead>\n",
       "  <tbody>\n",
       "    <tr>\n",
       "      <th>0</th>\n",
       "      <td>Newly Built 4 Bedroom Semi Detached House With Bq</td>\n",
       "      <td>4 BEDROOM HOUSE FOR RENT</td>\n",
       "      <td>5,000,000/year</td>\n",
       "      <td>0</td>\n",
       "      <td>1</td>\n",
       "      <td>0</td>\n",
       "      <td>4 beds</td>\n",
       "      <td>4 baths</td>\n",
       "      <td>5 Toilets</td>\n",
       "      <td>Lekki</td>\n",
       "      <td>Agungi</td>\n",
       "    </tr>\n",
       "    <tr>\n",
       "      <th>1</th>\n",
       "      <td>Superb 4 Bedroom Semi Detached Duplex With Bq</td>\n",
       "      <td>4 BEDROOM HOUSE FOR RENT</td>\n",
       "      <td>5,000,000/year</td>\n",
       "      <td>0</td>\n",
       "      <td>1</td>\n",
       "      <td>0</td>\n",
       "      <td>4 beds</td>\n",
       "      <td>4 baths</td>\n",
       "      <td>5 Toilets</td>\n",
       "      <td>Lekki</td>\n",
       "      <td>Other Lekki</td>\n",
       "    </tr>\n",
       "    <tr>\n",
       "      <th>2</th>\n",
       "      <td>Furnished 2 Bedroom Terrace Duplex For Rent !!!</td>\n",
       "      <td>2 BEDROOM HOUSE FOR RENT</td>\n",
       "      <td>3,500,000</td>\n",
       "      <td>1</td>\n",
       "      <td>0</td>\n",
       "      <td>0</td>\n",
       "      <td>2 beds</td>\n",
       "      <td>3 baths</td>\n",
       "      <td>3 Toilets</td>\n",
       "      <td>Lekki</td>\n",
       "      <td>Osapa London</td>\n",
       "    </tr>\n",
       "    <tr>\n",
       "      <th>3</th>\n",
       "      <td>2 Bedroom Apartment For Rent</td>\n",
       "      <td>2 BEDROOM HOUSE FOR RENT</td>\n",
       "      <td>2,700,000</td>\n",
       "      <td>1</td>\n",
       "      <td>1</td>\n",
       "      <td>0</td>\n",
       "      <td>2 beds</td>\n",
       "      <td>3 baths</td>\n",
       "      <td>3 Toilets</td>\n",
       "      <td>Lekki</td>\n",
       "      <td>Ologolo</td>\n",
       "    </tr>\n",
       "    <tr>\n",
       "      <th>4</th>\n",
       "      <td>4 Bedroom Terrace Duplex For Rent</td>\n",
       "      <td>4 BEDROOM HOUSE FOR RENT</td>\n",
       "      <td>4,000,000</td>\n",
       "      <td>1</td>\n",
       "      <td>0</td>\n",
       "      <td>0</td>\n",
       "      <td>4 beds</td>\n",
       "      <td>5 baths</td>\n",
       "      <td>5 Toilets</td>\n",
       "      <td>Lekki</td>\n",
       "      <td>Chevron</td>\n",
       "    </tr>\n",
       "  </tbody>\n",
       "</table>\n",
       "</div>"
      ],
      "text/plain": [
       "                                               Title  \\\n",
       "0  Newly Built 4 Bedroom Semi Detached House With Bq   \n",
       "1      Superb 4 Bedroom Semi Detached Duplex With Bq   \n",
       "2    Furnished 2 Bedroom Terrace Duplex For Rent !!!   \n",
       "3                       2 Bedroom Apartment For Rent   \n",
       "4                  4 Bedroom Terrace Duplex For Rent   \n",
       "\n",
       "                  More Info           Price  Serviced  Newly Built  Furnished  \\\n",
       "0  4 BEDROOM HOUSE FOR RENT  5,000,000/year         0            1          0   \n",
       "1  4 BEDROOM HOUSE FOR RENT  5,000,000/year         0            1          0   \n",
       "2  2 BEDROOM HOUSE FOR RENT       3,500,000         1            0          0   \n",
       "3  2 BEDROOM HOUSE FOR RENT       2,700,000         1            1          0   \n",
       "4  4 BEDROOM HOUSE FOR RENT       4,000,000         1            0          0   \n",
       "\n",
       "  Bedrooms Bathrooms    Toilets   City  Neighborhood  \n",
       "0   4 beds   4 baths  5 Toilets  Lekki        Agungi  \n",
       "1   4 beds   4 baths  5 Toilets  Lekki   Other Lekki  \n",
       "2   2 beds   3 baths  3 Toilets  Lekki  Osapa London  \n",
       "3   2 beds   3 baths  3 Toilets  Lekki       Ologolo  \n",
       "4   4 beds   5 baths  5 Toilets  Lekki       Chevron  "
      ]
     },
     "execution_count": 2,
     "metadata": {},
     "output_type": "execute_result"
    }
   ],
   "source": [
    "# Reading the dataset\n",
    "df2 = pd.read_csv('lagos-rent.csv')\n",
    "df2.head()"
   ]
  },
  {
   "cell_type": "code",
   "execution_count": 3,
   "id": "4341d4b4",
   "metadata": {},
   "outputs": [],
   "source": [
    "# Dropping the unwanted columns\n",
    "df2.drop(columns=['Title', 'More Info'], inplace=True)"
   ]
  },
  {
   "cell_type": "code",
   "execution_count": 4,
   "id": "b1839e32",
   "metadata": {},
   "outputs": [
    {
     "data": {
      "text/html": [
       "<div>\n",
       "<style scoped>\n",
       "    .dataframe tbody tr th:only-of-type {\n",
       "        vertical-align: middle;\n",
       "    }\n",
       "\n",
       "    .dataframe tbody tr th {\n",
       "        vertical-align: top;\n",
       "    }\n",
       "\n",
       "    .dataframe thead th {\n",
       "        text-align: right;\n",
       "    }\n",
       "</style>\n",
       "<table border=\"1\" class=\"dataframe\">\n",
       "  <thead>\n",
       "    <tr style=\"text-align: right;\">\n",
       "      <th></th>\n",
       "      <th>Price</th>\n",
       "      <th>Serviced</th>\n",
       "      <th>Newly Built</th>\n",
       "      <th>Furnished</th>\n",
       "      <th>Bedrooms</th>\n",
       "      <th>Bathrooms</th>\n",
       "      <th>Toilets</th>\n",
       "      <th>City</th>\n",
       "      <th>Neighborhood</th>\n",
       "    </tr>\n",
       "  </thead>\n",
       "  <tbody>\n",
       "    <tr>\n",
       "      <th>0</th>\n",
       "      <td>5000000/year</td>\n",
       "      <td>0</td>\n",
       "      <td>1</td>\n",
       "      <td>0</td>\n",
       "      <td>4 beds</td>\n",
       "      <td>4 baths</td>\n",
       "      <td>5 Toilets</td>\n",
       "      <td>Lekki</td>\n",
       "      <td>Agungi</td>\n",
       "    </tr>\n",
       "    <tr>\n",
       "      <th>1</th>\n",
       "      <td>5000000/year</td>\n",
       "      <td>0</td>\n",
       "      <td>1</td>\n",
       "      <td>0</td>\n",
       "      <td>4 beds</td>\n",
       "      <td>4 baths</td>\n",
       "      <td>5 Toilets</td>\n",
       "      <td>Lekki</td>\n",
       "      <td>Other Lekki</td>\n",
       "    </tr>\n",
       "    <tr>\n",
       "      <th>2</th>\n",
       "      <td>3500000</td>\n",
       "      <td>1</td>\n",
       "      <td>0</td>\n",
       "      <td>0</td>\n",
       "      <td>2 beds</td>\n",
       "      <td>3 baths</td>\n",
       "      <td>3 Toilets</td>\n",
       "      <td>Lekki</td>\n",
       "      <td>Osapa London</td>\n",
       "    </tr>\n",
       "    <tr>\n",
       "      <th>3</th>\n",
       "      <td>2700000</td>\n",
       "      <td>1</td>\n",
       "      <td>1</td>\n",
       "      <td>0</td>\n",
       "      <td>2 beds</td>\n",
       "      <td>3 baths</td>\n",
       "      <td>3 Toilets</td>\n",
       "      <td>Lekki</td>\n",
       "      <td>Ologolo</td>\n",
       "    </tr>\n",
       "    <tr>\n",
       "      <th>4</th>\n",
       "      <td>4000000</td>\n",
       "      <td>1</td>\n",
       "      <td>0</td>\n",
       "      <td>0</td>\n",
       "      <td>4 beds</td>\n",
       "      <td>5 baths</td>\n",
       "      <td>5 Toilets</td>\n",
       "      <td>Lekki</td>\n",
       "      <td>Chevron</td>\n",
       "    </tr>\n",
       "  </tbody>\n",
       "</table>\n",
       "</div>"
      ],
      "text/plain": [
       "          Price  Serviced  Newly Built  Furnished Bedrooms Bathrooms  \\\n",
       "0  5000000/year         0            1          0   4 beds   4 baths   \n",
       "1  5000000/year         0            1          0   4 beds   4 baths   \n",
       "2       3500000         1            0          0   2 beds   3 baths   \n",
       "3       2700000         1            1          0   2 beds   3 baths   \n",
       "4       4000000         1            0          0   4 beds   5 baths   \n",
       "\n",
       "     Toilets   City  Neighborhood  \n",
       "0  5 Toilets  Lekki        Agungi  \n",
       "1  5 Toilets  Lekki   Other Lekki  \n",
       "2  3 Toilets  Lekki  Osapa London  \n",
       "3  3 Toilets  Lekki       Ologolo  \n",
       "4  5 Toilets  Lekki       Chevron  "
      ]
     },
     "execution_count": 4,
     "metadata": {},
     "output_type": "execute_result"
    }
   ],
   "source": [
    "# Removing the anomalies in the price column\n",
    "df2['Price']= df2['Price'].str.replace(',', '')\n",
    "df2.head()"
   ]
  },
  {
   "cell_type": "code",
   "execution_count": 5,
   "id": "8d4d10f1",
   "metadata": {},
   "outputs": [
    {
     "data": {
      "text/html": [
       "<div>\n",
       "<style scoped>\n",
       "    .dataframe tbody tr th:only-of-type {\n",
       "        vertical-align: middle;\n",
       "    }\n",
       "\n",
       "    .dataframe tbody tr th {\n",
       "        vertical-align: top;\n",
       "    }\n",
       "\n",
       "    .dataframe thead th {\n",
       "        text-align: right;\n",
       "    }\n",
       "</style>\n",
       "<table border=\"1\" class=\"dataframe\">\n",
       "  <thead>\n",
       "    <tr style=\"text-align: right;\">\n",
       "      <th></th>\n",
       "      <th>Price</th>\n",
       "      <th>Serviced</th>\n",
       "      <th>Newly Built</th>\n",
       "      <th>Furnished</th>\n",
       "      <th>Bedrooms</th>\n",
       "      <th>Bathrooms</th>\n",
       "      <th>Toilets</th>\n",
       "      <th>City</th>\n",
       "      <th>Neighborhood</th>\n",
       "    </tr>\n",
       "  </thead>\n",
       "  <tbody>\n",
       "    <tr>\n",
       "      <th>0</th>\n",
       "      <td>5000000year</td>\n",
       "      <td>0</td>\n",
       "      <td>1</td>\n",
       "      <td>0</td>\n",
       "      <td>4 beds</td>\n",
       "      <td>4 baths</td>\n",
       "      <td>5 Toilets</td>\n",
       "      <td>Lekki</td>\n",
       "      <td>Agungi</td>\n",
       "    </tr>\n",
       "    <tr>\n",
       "      <th>1</th>\n",
       "      <td>5000000year</td>\n",
       "      <td>0</td>\n",
       "      <td>1</td>\n",
       "      <td>0</td>\n",
       "      <td>4 beds</td>\n",
       "      <td>4 baths</td>\n",
       "      <td>5 Toilets</td>\n",
       "      <td>Lekki</td>\n",
       "      <td>Other Lekki</td>\n",
       "    </tr>\n",
       "    <tr>\n",
       "      <th>2</th>\n",
       "      <td>3500000</td>\n",
       "      <td>1</td>\n",
       "      <td>0</td>\n",
       "      <td>0</td>\n",
       "      <td>2 beds</td>\n",
       "      <td>3 baths</td>\n",
       "      <td>3 Toilets</td>\n",
       "      <td>Lekki</td>\n",
       "      <td>Osapa London</td>\n",
       "    </tr>\n",
       "    <tr>\n",
       "      <th>3</th>\n",
       "      <td>2700000</td>\n",
       "      <td>1</td>\n",
       "      <td>1</td>\n",
       "      <td>0</td>\n",
       "      <td>2 beds</td>\n",
       "      <td>3 baths</td>\n",
       "      <td>3 Toilets</td>\n",
       "      <td>Lekki</td>\n",
       "      <td>Ologolo</td>\n",
       "    </tr>\n",
       "    <tr>\n",
       "      <th>4</th>\n",
       "      <td>4000000</td>\n",
       "      <td>1</td>\n",
       "      <td>0</td>\n",
       "      <td>0</td>\n",
       "      <td>4 beds</td>\n",
       "      <td>5 baths</td>\n",
       "      <td>5 Toilets</td>\n",
       "      <td>Lekki</td>\n",
       "      <td>Chevron</td>\n",
       "    </tr>\n",
       "  </tbody>\n",
       "</table>\n",
       "</div>"
      ],
      "text/plain": [
       "         Price  Serviced  Newly Built  Furnished Bedrooms Bathrooms  \\\n",
       "0  5000000year         0            1          0   4 beds   4 baths   \n",
       "1  5000000year         0            1          0   4 beds   4 baths   \n",
       "2      3500000         1            0          0   2 beds   3 baths   \n",
       "3      2700000         1            1          0   2 beds   3 baths   \n",
       "4      4000000         1            0          0   4 beds   5 baths   \n",
       "\n",
       "     Toilets   City  Neighborhood  \n",
       "0  5 Toilets  Lekki        Agungi  \n",
       "1  5 Toilets  Lekki   Other Lekki  \n",
       "2  3 Toilets  Lekki  Osapa London  \n",
       "3  3 Toilets  Lekki       Ologolo  \n",
       "4  5 Toilets  Lekki       Chevron  "
      ]
     },
     "execution_count": 5,
     "metadata": {},
     "output_type": "execute_result"
    }
   ],
   "source": [
    "# Removing the anomalies in the price column\n",
    "df2['Price'] = df2['Price'].str.replace('/', '')\n",
    "df2.head()"
   ]
  },
  {
   "cell_type": "code",
   "execution_count": 6,
   "id": "53afd353",
   "metadata": {},
   "outputs": [],
   "source": [
    "# Drop rows with no number of toilets in the 'Toilet' column\n",
    "df2.drop(df2.index[(df2['Toilets']== '0 Toilets')], axis=0, inplace=True)\n",
    "df2.drop(df2.index[(df2['Toilets']== ' Toilets')], axis=0, inplace=True)\n",
    "# taking the numbers in df1[Toilets] column and changing the type\n",
    "df2['Toilets'] = df2['Toilets'].str[0].astype(int)"
   ]
  },
  {
   "cell_type": "code",
   "execution_count": 7,
   "id": "ba470c76",
   "metadata": {},
   "outputs": [
    {
     "data": {
      "text/plain": [
       "array([5, 3, 4, 7, 6, 2, 1, 8, 9])"
      ]
     },
     "execution_count": 7,
     "metadata": {},
     "output_type": "execute_result"
    }
   ],
   "source": [
    "df2['Toilets'].unique()"
   ]
  },
  {
   "cell_type": "code",
   "execution_count": 8,
   "id": "e6c14aa8",
   "metadata": {},
   "outputs": [],
   "source": [
    "# Drop rows with no number of Bathrooms in the 'Bathrooms' column\n",
    "df2.drop(df2.index[(df2['Bathrooms']== '0 baths')], axis=0, inplace=True)\n",
    "df2.drop(df2.index[(df2['Bathrooms']== ' baths')], axis=0, inplace=True)\n",
    "# taking only the 'numbers' in df1[bathrooms] column and changing the type\n",
    "df2['Bathrooms'] = df2['Bathrooms'].str[0].astype(int)"
   ]
  },
  {
   "cell_type": "code",
   "execution_count": 9,
   "id": "09db4dfc",
   "metadata": {},
   "outputs": [
    {
     "data": {
      "text/plain": [
       "array([4, 3, 5, 6, 2, 1, 7, 8, 9])"
      ]
     },
     "execution_count": 9,
     "metadata": {},
     "output_type": "execute_result"
    }
   ],
   "source": [
    "df2['Bathrooms'].unique()"
   ]
  },
  {
   "cell_type": "code",
   "execution_count": 10,
   "id": "bf8bec19",
   "metadata": {},
   "outputs": [],
   "source": [
    "# Drop rows with no number of Bedrooms in the 'Bedrooms' column\n",
    "df2.drop(df2.index[(df2['Bedrooms']== '0 beds')], axis=0, inplace=True)\n",
    "df2.drop(df2.index[(df2['Bedrooms']== ' beds')], axis=0, inplace=True)\n",
    "# Taking only the numbers in df1[bedrooms] column and changing the type\n",
    "df2['Bedrooms'] = df2['Bedrooms'].str[0].astype(int)"
   ]
  },
  {
   "cell_type": "code",
   "execution_count": 11,
   "id": "34a2dcf2",
   "metadata": {},
   "outputs": [
    {
     "data": {
      "text/plain": [
       "array([4, 2, 3, 5, 1, 6, 8, 9, 7])"
      ]
     },
     "execution_count": 11,
     "metadata": {},
     "output_type": "execute_result"
    }
   ],
   "source": [
    "df2['Bedrooms'].unique()"
   ]
  },
  {
   "cell_type": "code",
   "execution_count": 12,
   "id": "6c175ccf",
   "metadata": {},
   "outputs": [],
   "source": [
    "# removing str attached to price in the price column\n",
    "df2['Price'] = df2['Price'].apply(lambda x: str(x).replace('year', '') if 'year' in str(x) else(x))           \n",
    "df2['Price'] = df2['Price'].apply(lambda x: str(x).replace('day', '') if 'day' in str(x) else(x))\n",
    "df2['Price'] = df2['Price'].apply(lambda x: str(x).replace('month', '') if 'month' in str(x) else(x))\n",
    "df2['Price'] = df2['Price'].apply(lambda x: str(x).replace('sqm', '') if 'sqm' in str(x) else(x))\n",
    "# changing the price type from 'object' to 'int'\n",
    "df2['Price']= df2['Price'].astype(dtype=np.int64)"
   ]
  },
  {
   "cell_type": "code",
   "execution_count": 13,
   "id": "3e8a6455",
   "metadata": {},
   "outputs": [
    {
     "data": {
      "text/html": [
       "<div>\n",
       "<style scoped>\n",
       "    .dataframe tbody tr th:only-of-type {\n",
       "        vertical-align: middle;\n",
       "    }\n",
       "\n",
       "    .dataframe tbody tr th {\n",
       "        vertical-align: top;\n",
       "    }\n",
       "\n",
       "    .dataframe thead th {\n",
       "        text-align: right;\n",
       "    }\n",
       "</style>\n",
       "<table border=\"1\" class=\"dataframe\">\n",
       "  <thead>\n",
       "    <tr style=\"text-align: right;\">\n",
       "      <th></th>\n",
       "      <th>Price</th>\n",
       "      <th>Serviced</th>\n",
       "      <th>Newly Built</th>\n",
       "      <th>Furnished</th>\n",
       "      <th>Bedrooms</th>\n",
       "      <th>Bathrooms</th>\n",
       "      <th>Toilets</th>\n",
       "      <th>City</th>\n",
       "      <th>Neighborhood</th>\n",
       "    </tr>\n",
       "  </thead>\n",
       "  <tbody>\n",
       "    <tr>\n",
       "      <th>0</th>\n",
       "      <td>5000000</td>\n",
       "      <td>0</td>\n",
       "      <td>1</td>\n",
       "      <td>0</td>\n",
       "      <td>4</td>\n",
       "      <td>4</td>\n",
       "      <td>5</td>\n",
       "      <td>Lekki</td>\n",
       "      <td>Agungi</td>\n",
       "    </tr>\n",
       "    <tr>\n",
       "      <th>1</th>\n",
       "      <td>5000000</td>\n",
       "      <td>0</td>\n",
       "      <td>1</td>\n",
       "      <td>0</td>\n",
       "      <td>4</td>\n",
       "      <td>4</td>\n",
       "      <td>5</td>\n",
       "      <td>Lekki</td>\n",
       "      <td>Other Lekki</td>\n",
       "    </tr>\n",
       "    <tr>\n",
       "      <th>2</th>\n",
       "      <td>3500000</td>\n",
       "      <td>1</td>\n",
       "      <td>0</td>\n",
       "      <td>0</td>\n",
       "      <td>2</td>\n",
       "      <td>3</td>\n",
       "      <td>3</td>\n",
       "      <td>Lekki</td>\n",
       "      <td>Osapa London</td>\n",
       "    </tr>\n",
       "    <tr>\n",
       "      <th>3</th>\n",
       "      <td>2700000</td>\n",
       "      <td>1</td>\n",
       "      <td>1</td>\n",
       "      <td>0</td>\n",
       "      <td>2</td>\n",
       "      <td>3</td>\n",
       "      <td>3</td>\n",
       "      <td>Lekki</td>\n",
       "      <td>Ologolo</td>\n",
       "    </tr>\n",
       "    <tr>\n",
       "      <th>4</th>\n",
       "      <td>4000000</td>\n",
       "      <td>1</td>\n",
       "      <td>0</td>\n",
       "      <td>0</td>\n",
       "      <td>4</td>\n",
       "      <td>5</td>\n",
       "      <td>5</td>\n",
       "      <td>Lekki</td>\n",
       "      <td>Chevron</td>\n",
       "    </tr>\n",
       "  </tbody>\n",
       "</table>\n",
       "</div>"
      ],
      "text/plain": [
       "     Price  Serviced  Newly Built  Furnished  Bedrooms  Bathrooms  Toilets  \\\n",
       "0  5000000         0            1          0         4          4        5   \n",
       "1  5000000         0            1          0         4          4        5   \n",
       "2  3500000         1            0          0         2          3        3   \n",
       "3  2700000         1            1          0         2          3        3   \n",
       "4  4000000         1            0          0         4          5        5   \n",
       "\n",
       "    City  Neighborhood  \n",
       "0  Lekki        Agungi  \n",
       "1  Lekki   Other Lekki  \n",
       "2  Lekki  Osapa London  \n",
       "3  Lekki       Ologolo  \n",
       "4  Lekki       Chevron  "
      ]
     },
     "execution_count": 13,
     "metadata": {},
     "output_type": "execute_result"
    }
   ],
   "source": [
    "# To check if changes are effected\n",
    "df2.head()"
   ]
  },
  {
   "cell_type": "code",
   "execution_count": 14,
   "id": "67841f6f",
   "metadata": {},
   "outputs": [],
   "source": [
    "# drop column with high cardinal categorical features\n",
    "df2.drop(columns=['Neighborhood'], inplace=True)"
   ]
  },
  {
   "cell_type": "code",
   "execution_count": 15,
   "id": "881c04ed",
   "metadata": {},
   "outputs": [
    {
     "name": "stdout",
     "output_type": "stream",
     "text": [
      "<class 'pandas.core.frame.DataFrame'>\n",
      "Int64Index: 41213 entries, 0 to 53069\n",
      "Data columns (total 8 columns):\n",
      " #   Column       Non-Null Count  Dtype \n",
      "---  ------       --------------  ----- \n",
      " 0   Price        41213 non-null  int64 \n",
      " 1   Serviced     41213 non-null  int64 \n",
      " 2   Newly Built  41213 non-null  int64 \n",
      " 3   Furnished    41213 non-null  int64 \n",
      " 4   Bedrooms     41213 non-null  int32 \n",
      " 5   Bathrooms    41213 non-null  int32 \n",
      " 6   Toilets      41213 non-null  int32 \n",
      " 7   City         41213 non-null  object\n",
      "dtypes: int32(3), int64(4), object(1)\n",
      "memory usage: 2.4+ MB\n"
     ]
    }
   ],
   "source": [
    "# check if changes are effected\n",
    "df2.info()"
   ]
  },
  {
   "cell_type": "code",
   "execution_count": 16,
   "id": "564ec76c",
   "metadata": {},
   "outputs": [
    {
     "data": {
      "text/html": [
       "<div>\n",
       "<style scoped>\n",
       "    .dataframe tbody tr th:only-of-type {\n",
       "        vertical-align: middle;\n",
       "    }\n",
       "\n",
       "    .dataframe tbody tr th {\n",
       "        vertical-align: top;\n",
       "    }\n",
       "\n",
       "    .dataframe thead th {\n",
       "        text-align: right;\n",
       "    }\n",
       "</style>\n",
       "<table border=\"1\" class=\"dataframe\">\n",
       "  <thead>\n",
       "    <tr style=\"text-align: right;\">\n",
       "      <th></th>\n",
       "      <th>Price</th>\n",
       "      <th>Serviced</th>\n",
       "      <th>Newly Built</th>\n",
       "      <th>Furnished</th>\n",
       "      <th>Bedrooms</th>\n",
       "      <th>Bathrooms</th>\n",
       "      <th>Toilets</th>\n",
       "      <th>City</th>\n",
       "    </tr>\n",
       "  </thead>\n",
       "  <tbody>\n",
       "    <tr>\n",
       "      <th>0</th>\n",
       "      <td>5000000</td>\n",
       "      <td>0</td>\n",
       "      <td>1</td>\n",
       "      <td>0</td>\n",
       "      <td>4</td>\n",
       "      <td>4</td>\n",
       "      <td>5</td>\n",
       "      <td>Lekki</td>\n",
       "    </tr>\n",
       "    <tr>\n",
       "      <th>1</th>\n",
       "      <td>5000000</td>\n",
       "      <td>0</td>\n",
       "      <td>1</td>\n",
       "      <td>0</td>\n",
       "      <td>4</td>\n",
       "      <td>4</td>\n",
       "      <td>5</td>\n",
       "      <td>Lekki</td>\n",
       "    </tr>\n",
       "    <tr>\n",
       "      <th>2</th>\n",
       "      <td>3500000</td>\n",
       "      <td>1</td>\n",
       "      <td>0</td>\n",
       "      <td>0</td>\n",
       "      <td>2</td>\n",
       "      <td>3</td>\n",
       "      <td>3</td>\n",
       "      <td>Lekki</td>\n",
       "    </tr>\n",
       "    <tr>\n",
       "      <th>3</th>\n",
       "      <td>2700000</td>\n",
       "      <td>1</td>\n",
       "      <td>1</td>\n",
       "      <td>0</td>\n",
       "      <td>2</td>\n",
       "      <td>3</td>\n",
       "      <td>3</td>\n",
       "      <td>Lekki</td>\n",
       "    </tr>\n",
       "    <tr>\n",
       "      <th>4</th>\n",
       "      <td>4000000</td>\n",
       "      <td>1</td>\n",
       "      <td>0</td>\n",
       "      <td>0</td>\n",
       "      <td>4</td>\n",
       "      <td>5</td>\n",
       "      <td>5</td>\n",
       "      <td>Lekki</td>\n",
       "    </tr>\n",
       "  </tbody>\n",
       "</table>\n",
       "</div>"
      ],
      "text/plain": [
       "     Price  Serviced  Newly Built  Furnished  Bedrooms  Bathrooms  Toilets  \\\n",
       "0  5000000         0            1          0         4          4        5   \n",
       "1  5000000         0            1          0         4          4        5   \n",
       "2  3500000         1            0          0         2          3        3   \n",
       "3  2700000         1            1          0         2          3        3   \n",
       "4  4000000         1            0          0         4          5        5   \n",
       "\n",
       "    City  \n",
       "0  Lekki  \n",
       "1  Lekki  \n",
       "2  Lekki  \n",
       "3  Lekki  \n",
       "4  Lekki  "
      ]
     },
     "execution_count": 16,
     "metadata": {},
     "output_type": "execute_result"
    }
   ],
   "source": [
    "# Removing outliers\n",
    "mask= df2['Price'] >= 200000\n",
    "df1 = df2[mask]\n",
    "df1.head()\n"
   ]
  },
  {
   "cell_type": "code",
   "execution_count": 17,
   "id": "077e877b",
   "metadata": {},
   "outputs": [
    {
     "data": {
      "text/html": [
       "<div>\n",
       "<style scoped>\n",
       "    .dataframe tbody tr th:only-of-type {\n",
       "        vertical-align: middle;\n",
       "    }\n",
       "\n",
       "    .dataframe tbody tr th {\n",
       "        vertical-align: top;\n",
       "    }\n",
       "\n",
       "    .dataframe thead th {\n",
       "        text-align: right;\n",
       "    }\n",
       "</style>\n",
       "<table border=\"1\" class=\"dataframe\">\n",
       "  <thead>\n",
       "    <tr style=\"text-align: right;\">\n",
       "      <th></th>\n",
       "      <th>Price</th>\n",
       "      <th>Serviced</th>\n",
       "      <th>Newly Built</th>\n",
       "      <th>Furnished</th>\n",
       "      <th>Bedrooms</th>\n",
       "      <th>Bathrooms</th>\n",
       "      <th>Toilets</th>\n",
       "      <th>City</th>\n",
       "    </tr>\n",
       "  </thead>\n",
       "  <tbody>\n",
       "    <tr>\n",
       "      <th>0</th>\n",
       "      <td>5000000</td>\n",
       "      <td>0</td>\n",
       "      <td>1</td>\n",
       "      <td>0</td>\n",
       "      <td>4</td>\n",
       "      <td>4</td>\n",
       "      <td>5</td>\n",
       "      <td>Lekki</td>\n",
       "    </tr>\n",
       "    <tr>\n",
       "      <th>1</th>\n",
       "      <td>5000000</td>\n",
       "      <td>0</td>\n",
       "      <td>1</td>\n",
       "      <td>0</td>\n",
       "      <td>4</td>\n",
       "      <td>4</td>\n",
       "      <td>5</td>\n",
       "      <td>Lekki</td>\n",
       "    </tr>\n",
       "    <tr>\n",
       "      <th>2</th>\n",
       "      <td>3500000</td>\n",
       "      <td>1</td>\n",
       "      <td>0</td>\n",
       "      <td>0</td>\n",
       "      <td>2</td>\n",
       "      <td>3</td>\n",
       "      <td>3</td>\n",
       "      <td>Lekki</td>\n",
       "    </tr>\n",
       "    <tr>\n",
       "      <th>3</th>\n",
       "      <td>2700000</td>\n",
       "      <td>1</td>\n",
       "      <td>1</td>\n",
       "      <td>0</td>\n",
       "      <td>2</td>\n",
       "      <td>3</td>\n",
       "      <td>3</td>\n",
       "      <td>Lekki</td>\n",
       "    </tr>\n",
       "    <tr>\n",
       "      <th>4</th>\n",
       "      <td>4000000</td>\n",
       "      <td>1</td>\n",
       "      <td>0</td>\n",
       "      <td>0</td>\n",
       "      <td>4</td>\n",
       "      <td>5</td>\n",
       "      <td>5</td>\n",
       "      <td>Lekki</td>\n",
       "    </tr>\n",
       "  </tbody>\n",
       "</table>\n",
       "</div>"
      ],
      "text/plain": [
       "     Price  Serviced  Newly Built  Furnished  Bedrooms  Bathrooms  Toilets  \\\n",
       "0  5000000         0            1          0         4          4        5   \n",
       "1  5000000         0            1          0         4          4        5   \n",
       "2  3500000         1            0          0         2          3        3   \n",
       "3  2700000         1            1          0         2          3        3   \n",
       "4  4000000         1            0          0         4          5        5   \n",
       "\n",
       "    City  \n",
       "0  Lekki  \n",
       "1  Lekki  \n",
       "2  Lekki  \n",
       "3  Lekki  \n",
       "4  Lekki  "
      ]
     },
     "execution_count": 17,
     "metadata": {},
     "output_type": "execute_result"
    }
   ],
   "source": [
    "# Removing outliers\n",
    "mask = df1['Price'] <= 6000000\n",
    "afford_apartment = df1[mask]\n",
    "afford_apartment.head()"
   ]
  },
  {
   "cell_type": "code",
   "execution_count": 18,
   "id": "1a82516d",
   "metadata": {},
   "outputs": [
    {
     "data": {
      "text/plain": [
       "Price          201\n",
       "Serviced         2\n",
       "Newly Built      2\n",
       "Furnished        2\n",
       "Bedrooms         9\n",
       "Bathrooms        9\n",
       "Toilets          9\n",
       "City             9\n",
       "dtype: int64"
      ]
     },
     "execution_count": 18,
     "metadata": {},
     "output_type": "execute_result"
    }
   ],
   "source": [
    "# check the number of unique variables in each column\n",
    "afford_apartment.nunique()"
   ]
  },
  {
   "cell_type": "code",
   "execution_count": 19,
   "id": "abd9feec",
   "metadata": {},
   "outputs": [
    {
     "data": {
      "text/plain": [
       "<AxesSubplot:>"
      ]
     },
     "execution_count": 19,
     "metadata": {},
     "output_type": "execute_result"
    },
    {
     "data": {
      "image/png": "[encoded data removed]",
      "text/plain": [
       "<Figure size 432x288 with 2 Axes>"
      ]
     },
     "metadata": {
      "needs_background": "light"
     },
     "output_type": "display_data"
    }
   ],
   "source": [
    "# check for multicollinearity\n",
    "corr = afford_apartment.drop(columns='Price').corr()\n",
    "sns.heatmap(corr)"
   ]
  },
  {
   "cell_type": "code",
   "execution_count": 20,
   "id": "9dce7900",
   "metadata": {},
   "outputs": [
    {
     "name": "stderr",
     "output_type": "stream",
     "text": [
      "C:\\Users\\DELL\\AppData\\Local\\Temp\\ipykernel_14188\\3665081716.py:2: SettingWithCopyWarning: \n",
      "A value is trying to be set on a copy of a slice from a DataFrame\n",
      "\n",
      "See the caveats in the documentation: https://pandas.pydata.org/pandas-docs/stable/user_guide/indexing.html#returning-a-view-versus-a-copy\n",
      "  afford_apartment.drop(columns=['Bathrooms', 'Toilets'], inplace = True)\n"
     ]
    }
   ],
   "source": [
    "# drop columns with multicollinearity\n",
    "afford_apartment.drop(columns=['Bathrooms', 'Toilets'], inplace = True)"
   ]
  },
  {
   "cell_type": "code",
   "execution_count": 21,
   "id": "f31370bf",
   "metadata": {},
   "outputs": [
    {
     "data": {
      "text/plain": [
       "0    0.8\n",
       "1    0.2\n",
       "Name: Serviced, dtype: float64"
      ]
     },
     "execution_count": 21,
     "metadata": {},
     "output_type": "execute_result"
    }
   ],
   "source": [
    "# check the percentage of unique variables in the 'serviced' column. while 0 represent 'not serviced',1 represent 'serviced'\n",
    "afford_apartment['Serviced'].value_counts(normalize=True).round(2)"
   ]
  },
  {
   "cell_type": "code",
   "execution_count": 22,
   "id": "3f309858",
   "metadata": {},
   "outputs": [
    {
     "data": {
      "text/plain": [
       "0    0.67\n",
       "1    0.33\n",
       "Name: Newly Built, dtype: float64"
      ]
     },
     "execution_count": 22,
     "metadata": {},
     "output_type": "execute_result"
    }
   ],
   "source": [
    "#check the percentage of unique variables in the 'Newly Built' column. while 0 represent 'not newly built',1 represent it's 'newly built'\n",
    "afford_apartment['Newly Built'].value_counts(normalize=True).round(2)"
   ]
  },
  {
   "cell_type": "code",
   "execution_count": 23,
   "id": "944b88ea",
   "metadata": {},
   "outputs": [
    {
     "data": {
      "text/plain": [
       "0    0.86\n",
       "1    0.14\n",
       "Name: Furnished, dtype: float64"
      ]
     },
     "execution_count": 23,
     "metadata": {},
     "output_type": "execute_result"
    }
   ],
   "source": [
    "# check the percentage of unique variables in the 'Furnished' column. while 0 represent 'not Furnished',1 represent 'it's Furnished\n",
    "afford_apartment['Furnished'].value_counts(normalize=True).round(2)"
   ]
  },
  {
   "cell_type": "code",
   "execution_count": 24,
   "id": "b43b660d",
   "metadata": {},
   "outputs": [
    {
     "data": {
      "text/html": [
       "<div>\n",
       "<style scoped>\n",
       "    .dataframe tbody tr th:only-of-type {\n",
       "        vertical-align: middle;\n",
       "    }\n",
       "\n",
       "    .dataframe tbody tr th {\n",
       "        vertical-align: top;\n",
       "    }\n",
       "\n",
       "    .dataframe thead th {\n",
       "        text-align: right;\n",
       "    }\n",
       "</style>\n",
       "<table border=\"1\" class=\"dataframe\">\n",
       "  <thead>\n",
       "    <tr style=\"text-align: right;\">\n",
       "      <th></th>\n",
       "      <th>Price</th>\n",
       "      <th>Serviced</th>\n",
       "      <th>Newly Built</th>\n",
       "      <th>Furnished</th>\n",
       "      <th>Bedrooms</th>\n",
       "      <th>City</th>\n",
       "    </tr>\n",
       "  </thead>\n",
       "  <tbody>\n",
       "    <tr>\n",
       "      <th>32851</th>\n",
       "      <td>200000</td>\n",
       "      <td>0</td>\n",
       "      <td>0</td>\n",
       "      <td>0</td>\n",
       "      <td>1</td>\n",
       "      <td>Ojodu</td>\n",
       "    </tr>\n",
       "    <tr>\n",
       "      <th>16326</th>\n",
       "      <td>200000</td>\n",
       "      <td>0</td>\n",
       "      <td>0</td>\n",
       "      <td>0</td>\n",
       "      <td>1</td>\n",
       "      <td>Lekki</td>\n",
       "    </tr>\n",
       "    <tr>\n",
       "      <th>46249</th>\n",
       "      <td>200000</td>\n",
       "      <td>0</td>\n",
       "      <td>0</td>\n",
       "      <td>0</td>\n",
       "      <td>1</td>\n",
       "      <td>Ajah</td>\n",
       "    </tr>\n",
       "    <tr>\n",
       "      <th>32973</th>\n",
       "      <td>200000</td>\n",
       "      <td>0</td>\n",
       "      <td>1</td>\n",
       "      <td>0</td>\n",
       "      <td>1</td>\n",
       "      <td>Ojodu</td>\n",
       "    </tr>\n",
       "    <tr>\n",
       "      <th>40964</th>\n",
       "      <td>200000</td>\n",
       "      <td>0</td>\n",
       "      <td>0</td>\n",
       "      <td>0</td>\n",
       "      <td>1</td>\n",
       "      <td>Surulere</td>\n",
       "    </tr>\n",
       "  </tbody>\n",
       "</table>\n",
       "</div>"
      ],
      "text/plain": [
       "        Price  Serviced  Newly Built  Furnished  Bedrooms      City\n",
       "32851  200000         0            0          0         1     Ojodu\n",
       "16326  200000         0            0          0         1     Lekki\n",
       "46249  200000         0            0          0         1      Ajah\n",
       "32973  200000         0            1          0         1     Ojodu\n",
       "40964  200000         0            0          0         1  Surulere"
      ]
     },
     "execution_count": 24,
     "metadata": {},
     "output_type": "execute_result"
    }
   ],
   "source": [
    "afford_apartment = afford_apartment.sort_values('Price')\n",
    "afford_apartment.head()"
   ]
  },
  {
   "cell_type": "code",
   "execution_count": 25,
   "id": "6a9cce52",
   "metadata": {},
   "outputs": [],
   "source": [
    "# comparing price to city\n",
    "apt_price_vs_city = afford_apartment.groupby('Price')['City'].value_counts(ascending=False)"
   ]
  },
  {
   "cell_type": "code",
   "execution_count": 26,
   "id": "5287f3bd",
   "metadata": {},
   "outputs": [
    {
     "data": {
      "image/png": "[encoded data removed]",
      "text/plain": [
       "<Figure size 432x288 with 1 Axes>"
      ]
     },
     "metadata": {
      "needs_background": "light"
     },
     "output_type": "display_data"
    }
   ],
   "source": [
    "# plot cities with the highest price and thier frequency\n",
    "apt_price_vs_city.tail(10).plot(kind='barh')\n",
    "# label the axes\n",
    "plt.xlabel('Frequency [count]')\n",
    "plt.ylabel('Price/City')\n",
    "# label the title\n",
    "plt.title('City with the highest Apartment Price');"
   ]
  },
  {
   "cell_type": "code",
   "execution_count": 27,
   "id": "fd9fe2d0",
   "metadata": {},
   "outputs": [
    {
     "data": {
      "image/png": "[encoded data removed]",
      "text/plain": [
       "<Figure size 432x288 with 1 Axes>"
      ]
     },
     "metadata": {
      "needs_background": "light"
     },
     "output_type": "display_data"
    }
   ],
   "source": [
    "# plot cities with the lowest price and thier frequencies\n",
    "apt_price_vs_city.head(10).plot(kind='barh')\n",
    "# label the axes\n",
    "plt.xlabel('Frequency [count]')\n",
    "plt.ylabel('Price/City')\n",
    "# label the title\n",
    "plt.title('Cities with the least Apartment Price');"
   ]
  },
  {
   "cell_type": "code",
   "execution_count": 28,
   "id": "21494496",
   "metadata": {},
   "outputs": [
    {
     "data": {
      "image/png": "[encoded data removed]",
      "text/plain": [
       "<Figure size 432x288 with 1 Axes>"
      ]
     },
     "metadata": {
      "needs_background": "light"
     },
     "output_type": "display_data"
    }
   ],
   "source": [
    "# chart showing the frequency of Furnished apartments. 0 represent not furnished, 1 represent furnished.\n",
    "afford_apartment['Furnished'].value_counts().plot(kind='bar')\n",
    "plt.xlabel('Furnished')\n",
    "plt.ylabel('Frequency [count]')\n",
    "plt.title('Furnished Versus Frequency');"
   ]
  },
  {
   "cell_type": "code",
   "execution_count": 29,
   "id": "f68fbcff",
   "metadata": {},
   "outputs": [
    {
     "data": {
      "image/png": "[encoded data removed]",
      "text/plain": [
       "<Figure size 432x288 with 1 Axes>"
      ]
     },
     "metadata": {
      "needs_background": "light"
     },
     "output_type": "display_data"
    }
   ],
   "source": [
    "# chart showing the frequency of Newly Built apartments. 0 represent not Newly Built, 1 represent Newly Built.\n",
    "afford_apartment['Newly Built'].value_counts().plot(kind='bar')\n",
    "plt.xlabel('Newly Built')\n",
    "plt.ylabel('Frequency [count]')\n",
    "plt.title('Newly Built Apartment Versus Frequency');"
   ]
  },
  {
   "cell_type": "code",
   "execution_count": 30,
   "id": "e62880c0",
   "metadata": {},
   "outputs": [
    {
     "data": {
      "image/png": "[encoded data removed]",
      "text/plain": [
       "<Figure size 432x288 with 1 Axes>"
      ]
     },
     "metadata": {
      "needs_background": "light"
     },
     "output_type": "display_data"
    }
   ],
   "source": [
    "# chart showing the frequency of Serviced apartments. 0 represent not Serviced, 1 represent Serviced.\n",
    "afford_apartment['Serviced'].value_counts().plot(kind='bar')\n",
    "plt.xlabel('Serviced')\n",
    "plt.ylabel('Frequency [count]')\n",
    "plt.title('Serviced Apartment Versus Frequency');"
   ]
  },
  {
   "cell_type": "code",
   "execution_count": 31,
   "id": "7e4adb1a",
   "metadata": {},
   "outputs": [
    {
     "data": {
      "image/png": "[encoded data removed]",
      "text/plain": [
       "<Figure size 432x288 with 1 Axes>"
      ]
     },
     "metadata": {
      "needs_background": "light"
     },
     "output_type": "display_data"
    }
   ],
   "source": [
    "# chart showing the number of Bedrooms and their frequencies\n",
    "afford_apartment['Bedrooms'].value_counts().plot(kind='bar')\n",
    "plt.xlabel('Bedrooms')\n",
    "plt.ylabel('Frequency [count]')\n",
    "plt.title('Bedrooms Versus Frequency');"
   ]
  },
  {
   "cell_type": "code",
   "execution_count": 32,
   "id": "d7be4152",
   "metadata": {},
   "outputs": [],
   "source": [
    "# renaming the Newly Built column\n",
    "afford_apartment.rename(columns={'Newly Built':'Newly_Built'}, inplace=True)"
   ]
  },
  {
   "cell_type": "code",
   "execution_count": 33,
   "id": "b78d2bee",
   "metadata": {},
   "outputs": [],
   "source": [
    "# getting the feature matrix and the target vector i.e the spliting into y_train and X_train\n",
    "target = 'Price'\n",
    "y_train = afford_apartment[target]\n",
    "X_train = afford_apartment.drop(target, axis=1)"
   ]
  },
  {
   "cell_type": "code",
   "execution_count": 35,
   "id": "644bdd13",
   "metadata": {},
   "outputs": [],
   "source": [
    "# spliting the dataset into train set and test set \n",
    "X_train, X_test, y_train, y_test = train_test_split(X_train, y_train, test_size=0.2, random_state=42)"
   ]
  },
  {
   "cell_type": "code",
   "execution_count": 36,
   "id": "8ab91ac9",
   "metadata": {},
   "outputs": [],
   "source": [
    "# Building the baseline model\n",
    "y_mean = y_train.mean()\n",
    "# iterating through the y_train\n",
    "y_pred_baseline = [y_mean] * len(y_train)"
   ]
  },
  {
   "cell_type": "code",
   "execution_count": 37,
   "id": "f4139ab4",
   "metadata": {},
   "outputs": [
    {
     "name": "stdout",
     "output_type": "stream",
     "text": [
      "Mean apt price: 2101051.0\n",
      "Baseline MAE: 1287690.0\n"
     ]
    }
   ],
   "source": [
    "# getting the Mean absolute error of the baseline model\n",
    "mae_baseline = mean_absolute_error(y_train, y_pred_baseline)\n",
    "print('Mean apt price:', round(y_mean, 0))\n",
    "print('Baseline MAE:', round(mae_baseline,0))"
   ]
  },
  {
   "cell_type": "code",
   "execution_count": 38,
   "id": "f30f4853",
   "metadata": {},
   "outputs": [
    {
     "data": {
      "text/plain": [
       "Pipeline(steps=[('onehotencoder', OneHotEncoder()),\n",
       "                ('linearregression', LinearRegression())])"
      ]
     },
     "execution_count": 38,
     "metadata": {},
     "output_type": "execute_result"
    }
   ],
   "source": [
    "# Building Model\n",
    "model = make_pipeline(OneHotEncoder(), LinearRegression())\n",
    "# fitting the model\n",
    "model.fit(X_train, y_train)"
   ]
  },
  {
   "cell_type": "code",
   "execution_count": 39,
   "id": "549306f3",
   "metadata": {},
   "outputs": [
    {
     "data": {
      "text/plain": [
       "array([ 204077., 1717912.,  941300.,  375356., 3154360.])"
      ]
     },
     "execution_count": 39,
     "metadata": {},
     "output_type": "execute_result"
    }
   ],
   "source": [
    "# model prediction\n",
    "y_pred_training = model.predict(X_train).round(0)\n",
    "y_pred_training[:5]"
   ]
  },
  {
   "cell_type": "code",
   "execution_count": 40,
   "id": "5bbfa0ae",
   "metadata": {},
   "outputs": [
    {
     "name": "stdout",
     "output_type": "stream",
     "text": [
      "Training MAE: 624657.0\n"
     ]
    }
   ],
   "source": [
    "# getting the mean absolute error of the training model\n",
    "mae_training = mean_absolute_error(y_train, y_pred_training)\n",
    "print('Training MAE:', round(mae_training, 0))"
   ]
  },
  {
   "cell_type": "code",
   "execution_count": 41,
   "id": "df3f1329",
   "metadata": {},
   "outputs": [
    {
     "data": {
      "text/plain": [
       "array([1623439., 3916064., 1575480., 1265413., 3120481.])"
      ]
     },
     "execution_count": 41,
     "metadata": {},
     "output_type": "execute_result"
    }
   ],
   "source": [
    "# using our model to predict on test dataset\n",
    "x_test= model.predict(X_test).round(0)\n",
    "x_test[:5]"
   ]
  },
  {
   "cell_type": "code",
   "execution_count": 42,
   "id": "75eec5ce",
   "metadata": {},
   "outputs": [],
   "source": [
    "# getting the intercept and coefficient of our model\n",
    "intercept = model.named_steps['linearregression'].intercept_\n",
    "coefficient = model.named_steps['linearregression'].coef_"
   ]
  },
  {
   "cell_type": "code",
   "execution_count": 43,
   "id": "0824c004",
   "metadata": {},
   "outputs": [],
   "source": [
    "# getting the feature names\n",
    "feature_names = model.named_steps['onehotencoder'].get_feature_names_out()"
   ]
  },
  {
   "cell_type": "code",
   "execution_count": 44,
   "id": "b7e75da7",
   "metadata": {},
   "outputs": [
    {
     "data": {
      "text/plain": [
       "Serviced_0      -197953.617287\n",
       "Serviced_1       197953.617301\n",
       "Newly_Built_0    -47236.597149\n",
       "Newly_Built_1     47236.597225\n",
       "Furnished_0       40503.037137\n",
       "dtype: float64"
      ]
     },
     "execution_count": 44,
     "metadata": {},
     "output_type": "execute_result"
    }
   ],
   "source": [
    "# getting the feature importance into a series\n",
    "feat_importance = pd.Series(coefficient, index=feature_names)\n",
    "feat_importance.head()"
   ]
  },
  {
   "cell_type": "code",
   "execution_count": 45,
   "id": "0c4f02f1",
   "metadata": {},
   "outputs": [
    {
     "data": {
      "image/png": "[encoded data removed]",
      "text/plain": [
       "<Figure size 432x288 with 1 Axes>"
      ]
     },
     "metadata": {
      "needs_background": "light"
     },
     "output_type": "display_data"
    }
   ],
   "source": [
    "# plot chart of top 15 of our feature importance\n",
    "feat_importance.sort_values(key=abs).tail(15).plot(kind='barh')\n",
    "# label the axes\n",
    "plt.xlabel('Importance [Naira]')\n",
    "plt.ylabel('Features')\n",
    "# label the title\n",
    "plt.title('Feature Importance for Apartment Price');"
   ]
  },
  {
   "cell_type": "code",
   "execution_count": 46,
   "id": "9df98439",
   "metadata": {},
   "outputs": [],
   "source": [
    "# communicate our model using a function\n",
    "def make_prediction(Serviced, Newly_Built, Furnished, Bedrooms, City):\n",
    "    data = {'Serviced': Serviced, 'Newly_Built': Newly_Built, 'Furnished':Furnished, 'Bedrooms':Bedrooms, 'City':City}\n",
    "    df= pd.DataFrame(data, index=[0])\n",
    "    prediction = model.predict(df).round(0)[0]\n",
    "    return f'Predicted apartment price: {prediction}'"
   ]
  },
  {
   "cell_type": "code",
   "execution_count": 50,
   "id": "16f7bb45",
   "metadata": {},
   "outputs": [
    {
     "data": {
      "text/plain": [
       "'Predicted apartment price: 237123.0'"
      ]
     },
     "execution_count": 50,
     "metadata": {},
     "output_type": "execute_result"
    }
   ],
   "source": [
    "# test our make_prediction function\n",
    "make_prediction(Serviced=0, Newly_Built=0, Furnished=0, Bedrooms= 1, City='Ajah')"
   ]
  },
  {
   "cell_type": "code",
   "execution_count": 47,
   "id": "5339829e",
   "metadata": {},
   "outputs": [
    {
     "data": {
      "application/vnd.jupyter.widget-view+json": {
       "model_id": "4c6df49d8bfc42528df893fb8745bfb5",
       "version_major": 2,
       "version_minor": 0
      },
      "text/plain": [
       "interactive(children=(Dropdown(description='Serviced', options=(0, 1), value=0), Dropdown(description='Newly_B…"
      ]
     },
     "metadata": {},
     "output_type": "display_data"
    }
   ],
   "source": [
    "# communicate using an interactive dashboard\n",
    "interact(\n",
    "    make_prediction,\n",
    "    Serviced = Dropdown(options=sorted(X_train['Serviced'].unique())),\n",
    "    Newly_Built = Dropdown(options=sorted(X_train['Newly_Built'].unique())),\n",
    "    Furnished = Dropdown(options=sorted(X_train['Furnished'].unique())),\n",
    "    Bedrooms = Dropdown(options=sorted(X_train['Bedrooms'].unique())),\n",
    "    City = Dropdown(options=sorted(X_train['City'].unique())),\n",
    "        \n",
    ");"
   ]
  },
  {
   "cell_type": "code",
   "execution_count": null,
   "id": "85ed400a",
   "metadata": {},
   "outputs": [],
   "source": []
  }
 ],
 "metadata": {
  "kernelspec": {
   "display_name": "Python 3 (ipykernel)",
   "language": "python",
   "name": "python3"
  },
  "language_info": {
   "codemirror_mode": {
    "name": "ipython",
    "version": 3
   },
   "file_extension": ".py",
   "mimetype": "text/x-python",
   "name": "python",
   "nbconvert_exporter": "python",
   "pygments_lexer": "ipython3",
   "version": "3.9.12"
  }
 },
 "nbformat": 4,
 "nbformat_minor": 5
}
